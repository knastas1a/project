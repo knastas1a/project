{
 "cells": [
  {
   "cell_type": "code",
   "execution_count": 2,
   "metadata": {},
   "outputs": [
    {
     "name": "stderr",
     "output_type": "stream",
     "text": [
      "/Users/anastasiakarpova/Library/Python/3.9/lib/python/site-packages/urllib3/__init__.py:35: NotOpenSSLWarning: urllib3 v2 only supports OpenSSL 1.1.1+, currently the 'ssl' module is compiled with 'LibreSSL 2.8.3'. See: https://github.com/urllib3/urllib3/issues/3020\n",
      "  warnings.warn(\n"
     ]
    }
   ],
   "source": [
    "import pandas as pd\n",
    "import requests \n",
    "from bs4 import BeautifulSoup\n",
    "from selenium import webdriver\n",
    "from selenium.webdriver.common.by import By\n",
    "from selenium.webdriver.common.keys import Keys\n",
    "from time import sleep"
   ]
  },
  {
   "cell_type": "markdown",
   "metadata": {},
   "source": [
    "1. Подключаемся к браузеру"
   ]
  },
  {
   "cell_type": "code",
   "execution_count": null,
   "metadata": {},
   "outputs": [],
   "source": [
    "driver = webdriver.Safari()"
   ]
  },
  {
   "cell_type": "markdown",
   "metadata": {},
   "source": [
    "2. Используя селениум, открываем сайт hh.ru"
   ]
  },
  {
   "cell_type": "code",
   "execution_count": 153,
   "metadata": {},
   "outputs": [],
   "source": [
    "hh_url = 'https://hh.ru'\n",
    "driver.get(hh_url)"
   ]
  },
  {
   "cell_type": "markdown",
   "metadata": {},
   "source": [
    "3. Находим поисковую строку"
   ]
  },
  {
   "cell_type": "code",
   "execution_count": null,
   "metadata": {},
   "outputs": [],
   "source": [
    "inp_tab = driver.find_element(By.ID, 'a11y-search-input')\n",
    "inp_tab"
   ]
  },
  {
   "cell_type": "markdown",
   "metadata": {},
   "source": [
    "4. Запускаем поиск - мы хотим изучить широкий спектр предложенных вакансий"
   ]
  },
  {
   "cell_type": "code",
   "execution_count": 155,
   "metadata": {},
   "outputs": [],
   "source": [
    "inp_tab.send_keys(Keys.ENTER)\n",
    "sleep(2)"
   ]
  },
  {
   "cell_type": "markdown",
   "metadata": {},
   "source": [
    "5. Изучив html-код сайта, мы нашли все нужные нам элементы: ссылку, вакансию, зарплату, работодателя, город и опыт работы. \n",
    "Теперь создадим цикл, в котором будем собирать данные из каждого окошка с вакансией на странице и пройдем так по всем страницам (их всего 40)"
   ]
  },
  {
   "cell_type": "code",
   "execution_count": null,
   "metadata": {},
   "outputs": [],
   "source": [
    "data = []\n",
    "\n",
    "for p in range(39):  # для прохождения по всем 40 страницам\n",
    "    hh = BeautifulSoup(driver.page_source, 'html.parser') # создаем \"дерево\" из html-кода\n",
    "    ads = hh.find_all('div', {'class': 'vacancy-serp-item__layout'}) #находим все ячейки с описанием вакансии на странице\n",
    "    \n",
    "    for ad in ads: #проходимся по каждой ячейке\n",
    "        try:\n",
    "            link = ad.find('a', {'class': 'bloko-link'}).get('href')\n",
    "            vacancy = ad.find('span', {'class': 'serp-item__title-link'}).text\n",
    "            wage = ad.find('span', {'data-qa': 'vacancy-serp__vacancy-compensation'}).text\n",
    "            company = ad.find('a', {'data-qa': 'vacancy-serp__vacancy-employer'}).find('span').text\n",
    "            city = ad.find('div', {'data-qa': 'vacancy-serp__vacancy-address'}).text\n",
    "            experience = ad.find('div', {'data-qa': 'vacancy-serp__vacancy-work-experience'}).text\n",
    "            \n",
    "        except:\n",
    "            pass # на сайте иногда не указаны значения, например, зарплаты. пропускаем, чтобы код не падал\n",
    "        data.append([link, vacancy, wage, company, city, experience])\n",
    "    print(len(data))\n",
    "\n",
    "    driver.find_element(By.XPATH, '//a[@data-qa=\"pager-next\"]').click() # находим кнопку перехода на следующую страницу и тыкаем на нее (именно поэтому в цикл заходим 39 раз)\n",
    "    sleep(10) # чтобы страница полность прогрузилась\n",
    "        "
   ]
  },
  {
   "cell_type": "markdown",
   "metadata": {},
   "source": [
    "6. Собранных данных оказалось недостаточно, поэтому в цикле ниже мы переходим по ссылке на страинцу отдельной вакансии и достаем оттуда еще пару признаков: график работы и рейтинг работодателя"
   ]
  },
  {
   "cell_type": "code",
   "execution_count": null,
   "metadata": {},
   "outputs": [],
   "source": [
    "from fake_useragent import UserAgent\n",
    "ua = UserAgent()\n",
    "saf_ua = ua.safari\n",
    "request_headers = {'user-agent': saf_ua} # сайт нас жестко банил, поэтому становимся более похожими на людей. \n",
    "# честно, скопировала эту штуку с сайта https://www.zenrows.com/blog/fake-user-agent#generate-fake-user-agents\n",
    "\n",
    "extra_data = []\n",
    "for vac in data: # проходимся по каждой отдельной вакансии\n",
    "    vac_url = vac[0] # достаем ссылку\n",
    "    r = requests.get(vac_url, headers= request_headers) \n",
    "    tree = BeautifulSoup(r.content, 'html.parser')\n",
    "    try:\n",
    "        employment = tree.find('p', {'data-qa': 'vacancy-view-employment-mode'}).text\n",
    "        company_rate = tree.find('div', {'data-qa': 'employer-review-small-widget-total-rating'}).text\n",
    "    except:\n",
    "        pass # на сайте иногда не указаны значения, например, рейтинг работодателя. пропускаем, чтобы код не падал\n",
    "    extra_data.append([vac_url, employment, company_rate])\n",
    "    \n",
    "    print(len(extra_data))\n",
    "extra_data"
   ]
  },
  {
   "cell_type": "markdown",
   "metadata": {},
   "source": [
    "7. Все готово! Теперь преобразуем полученные данные в датафрейм и на всякий случай делаем их копии."
   ]
  },
  {
   "cell_type": "code",
   "execution_count": 157,
   "metadata": {},
   "outputs": [
    {
     "data": {
      "text/plain": [
       "(2080, 6)"
      ]
     },
     "execution_count": 157,
     "metadata": {},
     "output_type": "execute_result"
    }
   ],
   "source": [
    "df_1 = pd.DataFrame(data, columns = ['link', 'vacancy', 'wage', 'company', 'city', 'experience'])\n",
    "df_1.shape\n"
   ]
  },
  {
   "cell_type": "code",
   "execution_count": 159,
   "metadata": {},
   "outputs": [
    {
     "data": {
      "text/html": [
       "<div>\n",
       "<style scoped>\n",
       "    .dataframe tbody tr th:only-of-type {\n",
       "        vertical-align: middle;\n",
       "    }\n",
       "\n",
       "    .dataframe tbody tr th {\n",
       "        vertical-align: top;\n",
       "    }\n",
       "\n",
       "    .dataframe thead th {\n",
       "        text-align: right;\n",
       "    }\n",
       "</style>\n",
       "<table border=\"1\" class=\"dataframe\">\n",
       "  <thead>\n",
       "    <tr style=\"text-align: right;\">\n",
       "      <th></th>\n",
       "      <th>link</th>\n",
       "      <th>vacancy</th>\n",
       "      <th>wage</th>\n",
       "      <th>company</th>\n",
       "      <th>city</th>\n",
       "      <th>experience</th>\n",
       "    </tr>\n",
       "  </thead>\n",
       "  <tbody>\n",
       "    <tr>\n",
       "      <th>0</th>\n",
       "      <td>https://adsrv.hh.ru/click?b=1003372&amp;place=35&amp;m...</td>\n",
       "      <td>Водитель со своим грузовым автомобилем</td>\n",
       "      <td>180 000 – 400 000 ₽</td>\n",
       "      <td>ИП Петрикин Александр Вячеславович</td>\n",
       "      <td>Москва</td>\n",
       "      <td>Без опыта</td>\n",
       "    </tr>\n",
       "    <tr>\n",
       "      <th>1</th>\n",
       "      <td>https://adsrv.hh.ru/click?b=993174&amp;place=36&amp;me...</td>\n",
       "      <td>Консультант поддержки в Яндекс Путешествия</td>\n",
       "      <td>от 30 000 ₽</td>\n",
       "      <td>Яндекс Крауд: Поддержка</td>\n",
       "      <td>Москва</td>\n",
       "      <td>Без опыта</td>\n",
       "    </tr>\n",
       "    <tr>\n",
       "      <th>2</th>\n",
       "      <td>https://hh.ru/vacancy/98672015?hhtmFrom=vacanc...</td>\n",
       "      <td>Менеджер по заполнению анкет (удаленно)</td>\n",
       "      <td>36 800 – 60 000 ₽</td>\n",
       "      <td>ИП Кабин Дмитрий Владимирович</td>\n",
       "      <td>Москва</td>\n",
       "      <td>Без опыта</td>\n",
       "    </tr>\n",
       "    <tr>\n",
       "      <th>3</th>\n",
       "      <td>https://hh.ru/vacancy/98657055?hhtmFrom=vacanc...</td>\n",
       "      <td>Ручной тестировщик (QA Manual Junior)</td>\n",
       "      <td>от 60 000 ₽</td>\n",
       "      <td>Oxytocin</td>\n",
       "      <td>Москва</td>\n",
       "      <td>Без опыта</td>\n",
       "    </tr>\n",
       "    <tr>\n",
       "      <th>4</th>\n",
       "      <td>https://hh.ru/vacancy/93848299?utm_source=head...</td>\n",
       "      <td>Торговый представитель (Водитель-курьер)</td>\n",
       "      <td>170 000 – 250 000 ₽</td>\n",
       "      <td>ЦУМ</td>\n",
       "      <td>Москва</td>\n",
       "      <td>Опыт от 1 года до 3 лет</td>\n",
       "    </tr>\n",
       "  </tbody>\n",
       "</table>\n",
       "</div>"
      ],
      "text/plain": [
       "                                                link  \\\n",
       "0  https://adsrv.hh.ru/click?b=1003372&place=35&m...   \n",
       "1  https://adsrv.hh.ru/click?b=993174&place=36&me...   \n",
       "2  https://hh.ru/vacancy/98672015?hhtmFrom=vacanc...   \n",
       "3  https://hh.ru/vacancy/98657055?hhtmFrom=vacanc...   \n",
       "4  https://hh.ru/vacancy/93848299?utm_source=head...   \n",
       "\n",
       "                                      vacancy                 wage  \\\n",
       "0      Водитель со своим грузовым автомобилем  180 000 – 400 000 ₽   \n",
       "1  Консультант поддержки в Яндекс Путешествия          от 30 000 ₽   \n",
       "2     Менеджер по заполнению анкет (удаленно)    36 800 – 60 000 ₽   \n",
       "3       Ручной тестировщик (QA Manual Junior)          от 60 000 ₽   \n",
       "4    Торговый представитель (Водитель-курьер)  170 000 – 250 000 ₽   \n",
       "\n",
       "                              company    city               experience  \n",
       "0  ИП Петрикин Александр Вячеславович  Москва                Без опыта  \n",
       "1             Яндекс Крауд: Поддержка  Москва                Без опыта  \n",
       "2       ИП Кабин Дмитрий Владимирович  Москва                Без опыта  \n",
       "3                            Oxytocin  Москва                Без опыта  \n",
       "4                                 ЦУМ  Москва  Опыт от 1 года до 3 лет  "
      ]
     },
     "execution_count": 159,
     "metadata": {},
     "output_type": "execute_result"
    }
   ],
   "source": [
    "df_a = df_1\n",
    "df_a.head()"
   ]
  },
  {
   "cell_type": "code",
   "execution_count": null,
   "metadata": {},
   "outputs": [],
   "source": [
    "extra_df = pd.DataFrame(extra_data, columns= ['link', 'employment', 'company_rate'])\n",
    "extra_df.head()"
   ]
  },
  {
   "cell_type": "code",
   "execution_count": 162,
   "metadata": {},
   "outputs": [
    {
     "data": {
      "text/html": [
       "<div>\n",
       "<style scoped>\n",
       "    .dataframe tbody tr th:only-of-type {\n",
       "        vertical-align: middle;\n",
       "    }\n",
       "\n",
       "    .dataframe tbody tr th {\n",
       "        vertical-align: top;\n",
       "    }\n",
       "\n",
       "    .dataframe thead th {\n",
       "        text-align: right;\n",
       "    }\n",
       "</style>\n",
       "<table border=\"1\" class=\"dataframe\">\n",
       "  <thead>\n",
       "    <tr style=\"text-align: right;\">\n",
       "      <th></th>\n",
       "      <th>link</th>\n",
       "      <th>employment</th>\n",
       "      <th>company_rate</th>\n",
       "    </tr>\n",
       "  </thead>\n",
       "  <tbody>\n",
       "    <tr>\n",
       "      <th>0</th>\n",
       "      <td>https://adsrv.hh.ru/click?b=1003372&amp;place=35&amp;m...</td>\n",
       "      <td>Полная занятость, полный день</td>\n",
       "      <td>4,5</td>\n",
       "    </tr>\n",
       "    <tr>\n",
       "      <th>1</th>\n",
       "      <td>https://adsrv.hh.ru/click?b=993174&amp;place=36&amp;me...</td>\n",
       "      <td>Полная занятость, удаленная работа</td>\n",
       "      <td>4,0</td>\n",
       "    </tr>\n",
       "    <tr>\n",
       "      <th>2</th>\n",
       "      <td>https://hh.ru/vacancy/98672015?hhtmFrom=vacanc...</td>\n",
       "      <td>Полная занятость, удаленная работа</td>\n",
       "      <td>3,5</td>\n",
       "    </tr>\n",
       "    <tr>\n",
       "      <th>3</th>\n",
       "      <td>https://hh.ru/vacancy/98657055?hhtmFrom=vacanc...</td>\n",
       "      <td>Полная занятость, полный день</td>\n",
       "      <td>3,5</td>\n",
       "    </tr>\n",
       "    <tr>\n",
       "      <th>4</th>\n",
       "      <td>https://hh.ru/vacancy/93848299?utm_source=head...</td>\n",
       "      <td>Полная занятость, сменный график</td>\n",
       "      <td>4,0</td>\n",
       "    </tr>\n",
       "  </tbody>\n",
       "</table>\n",
       "</div>"
      ],
      "text/plain": [
       "                                                link  \\\n",
       "0  https://adsrv.hh.ru/click?b=1003372&place=35&m...   \n",
       "1  https://adsrv.hh.ru/click?b=993174&place=36&me...   \n",
       "2  https://hh.ru/vacancy/98672015?hhtmFrom=vacanc...   \n",
       "3  https://hh.ru/vacancy/98657055?hhtmFrom=vacanc...   \n",
       "4  https://hh.ru/vacancy/93848299?utm_source=head...   \n",
       "\n",
       "                           employment company_rate  \n",
       "0       Полная занятость, полный день          4,5  \n",
       "1  Полная занятость, удаленная работа          4,0  \n",
       "2  Полная занятость, удаленная работа          3,5  \n",
       "3       Полная занятость, полный день          3,5  \n",
       "4    Полная занятость, сменный график          4,0  "
      ]
     },
     "execution_count": 162,
     "metadata": {},
     "output_type": "execute_result"
    }
   ],
   "source": [
    "df_b = extra_df\n",
    "df_b.head()"
   ]
  },
  {
   "cell_type": "markdown",
   "metadata": {},
   "source": [
    "8. Сохраняем полученные таблицы в csv-файлы для удобства последующей работы"
   ]
  },
  {
   "cell_type": "code",
   "execution_count": 163,
   "metadata": {},
   "outputs": [],
   "source": [
    "df_a.to_csv('df_a2.csv', encoding='utf-8')\n",
    "df_b.to_csv('df_b2.csv', encoding='utf-8')\n"
   ]
  }
 ],
 "metadata": {
  "kernelspec": {
   "display_name": "Python 3",
   "language": "python",
   "name": "python3"
  },
  "language_info": {
   "codemirror_mode": {
    "name": "ipython",
    "version": 3
   },
   "file_extension": ".py",
   "mimetype": "text/x-python",
   "name": "python",
   "nbconvert_exporter": "python",
   "pygments_lexer": "ipython3",
   "version": "3.9.6"
  }
 },
 "nbformat": 4,
 "nbformat_minor": 2
}
