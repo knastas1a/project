{
 "cells": [
  {
   "cell_type": "code",
   "execution_count": 2,
   "metadata": {},
   "outputs": [
    {
     "name": "stderr",
     "output_type": "stream",
     "text": [
      "/Users/anastasiakarpova/Library/Python/3.9/lib/python/site-packages/urllib3/__init__.py:35: NotOpenSSLWarning: urllib3 v2 only supports OpenSSL 1.1.1+, currently the 'ssl' module is compiled with 'LibreSSL 2.8.3'. See: https://github.com/urllib3/urllib3/issues/3020\n",
      "  warnings.warn(\n"
     ]
    }
   ],
   "source": [
    "import pandas as pd\n",
    "import requests \n",
    "from bs4 import BeautifulSoup\n",
    "from selenium import webdriver\n",
    "from selenium.webdriver.common.by import By\n",
    "from selenium.webdriver.common.keys import Keys\n",
    "from selenium.webdriver.support.ui import WebDriverWait as wait \n",
    "from selenium.webdriver.support import expected_conditions as ec \n",
    "from selenium.common.exceptions import NoSuchElementException\n",
    "from time import sleep"
   ]
  },
  {
   "cell_type": "code",
   "execution_count": 40,
   "metadata": {},
   "outputs": [],
   "source": [
    "driver = webdriver.Safari()"
   ]
  },
  {
   "cell_type": "code",
   "execution_count": 41,
   "metadata": {},
   "outputs": [],
   "source": [
    "hh_url = 'https://hh.ru'\n",
    "driver.get(hh_url)"
   ]
  },
  {
   "cell_type": "code",
   "execution_count": 43,
   "metadata": {},
   "outputs": [
    {
     "data": {
      "text/plain": [
       "<selenium.webdriver.remote.webelement.WebElement (session=\"404C3996-6D0A-443F-84F9-E0C936E3B369\", element=\"node-742BD33E-3A0E-48B8-9ED5-13FD93FFF7FE\")>"
      ]
     },
     "execution_count": 43,
     "metadata": {},
     "output_type": "execute_result"
    }
   ],
   "source": [
    "inp_tab = driver.find_element(By.ID, 'a11y-search-input')\n",
    "inp_tab"
   ]
  },
  {
   "cell_type": "code",
   "execution_count": 44,
   "metadata": {},
   "outputs": [],
   "source": [
    "inp_tab.send_keys(Keys.ENTER)\n",
    "sleep(2)"
   ]
  },
  {
   "cell_type": "code",
   "execution_count": 47,
   "metadata": {},
   "outputs": [],
   "source": [
    "driver.quit()"
   ]
  },
  {
   "cell_type": "markdown",
   "metadata": {},
   "source": [
    "[все предыдущие ячейки нужны! мы их вставим в тетрадку готовую]\n",
    "все, теперь мы перешли на нужную страничку и можно просто все парсить\n",
    "\n",
    "В СЛЕДУЮЩИХ СТРОКАХ Я ПРОСТО ПРОВЕРЯЮ НУЖНЫЕ ЭЛЕМЕНТЫ"
   ]
  },
  {
   "cell_type": "code",
   "execution_count": null,
   "metadata": {},
   "outputs": [],
   "source": [
    "hh = BeautifulSoup(driver.page_source, 'html.parser')\n",
    "hh"
   ]
  },
  {
   "cell_type": "code",
   "execution_count": null,
   "metadata": {},
   "outputs": [],
   "source": [
    "link = hh.find_all('a', {'class': 'bloko-link'}) #[3].get('href')\n",
    "link\n",
    "#их нужно доставать с 3 элемента до 107 с шагом 2"
   ]
  },
  {
   "cell_type": "code",
   "execution_count": null,
   "metadata": {},
   "outputs": [],
   "source": [
    "vacancy = hh.find_all('span', {'class': 'serp-item__title-link'})\n",
    "vacancy\n",
    "# тут все норм"
   ]
  },
  {
   "cell_type": "code",
   "execution_count": null,
   "metadata": {},
   "outputs": [],
   "source": [
    "wage = hh.find_all('span', {'data-qa': 'vacancy-serp__vacancy-compensation'})\n",
    "wage\n",
    "# одного не хватает у старс кофе сука"
   ]
  },
  {
   "cell_type": "code",
   "execution_count": null,
   "metadata": {},
   "outputs": [],
   "source": [
    "company = hh.find_all('a', {'data-qa': 'vacancy-serp__vacancy-employer'}) #[0].find('span').text\n",
    "company\n",
    "# все на месте"
   ]
  },
  {
   "cell_type": "code",
   "execution_count": null,
   "metadata": {},
   "outputs": [],
   "source": [
    "city = hh.find_all('div', {'data-qa': 'vacancy-serp__vacancy-address'}) #[0].text\n",
    "city\n",
    "#  все на месте\n"
   ]
  },
  {
   "cell_type": "code",
   "execution_count": null,
   "metadata": {},
   "outputs": [],
   "source": [
    "experience = hh.find_all('div', {'data-qa': 'vacancy-serp__vacancy-work-experience'})\n",
    "experience\n",
    "# все на месте"
   ]
  },
  {
   "cell_type": "code",
   "execution_count": null,
   "metadata": {},
   "outputs": [],
   "source": [
    "ads = hh.find_all('div', {'class': 'vacancy-serp-item__layout'})\n",
    "ads\n",
    "#это все окошки с вакансиями"
   ]
  },
  {
   "cell_type": "markdown",
   "metadata": {},
   "source": [
    "теперь создадим цикл, в котором будем собирать все данные из каждого окошка на странице и пройдем так по всем страницам (их очень много, но мы возьмем 100)\n",
    "[все следующие ячейки мы вставим в тетрадку]"
   ]
  },
  {
   "cell_type": "code",
   "execution_count": 45,
   "metadata": {},
   "outputs": [
    {
     "name": "stdout",
     "output_type": "stream",
     "text": [
      "51\n",
      "102\n",
      "153\n",
      "204\n",
      "255\n",
      "306\n",
      "357\n",
      "408\n",
      "459\n",
      "510\n",
      "561\n",
      "612\n",
      "663\n",
      "714\n",
      "765\n",
      "816\n",
      "867\n",
      "918\n",
      "969\n",
      "1020\n",
      "1071\n",
      "1122\n",
      "1173\n",
      "1224\n",
      "1275\n",
      "1326\n",
      "1377\n",
      "1428\n",
      "1479\n",
      "1530\n",
      "1581\n",
      "1632\n",
      "1683\n",
      "1734\n",
      "1785\n",
      "1836\n",
      "1887\n",
      "1938\n",
      "1989\n",
      "2040\n",
      "2091\n",
      "2142\n",
      "2193\n",
      "2244\n",
      "2295\n",
      "2346\n",
      "2397\n",
      "2448\n",
      "2499\n",
      "2550\n",
      "2601\n",
      "2652\n",
      "2703\n",
      "2754\n",
      "2805\n",
      "2856\n",
      "2907\n",
      "2958\n",
      "3009\n",
      "3060\n",
      "3111\n",
      "3162\n",
      "3213\n",
      "3264\n",
      "3315\n",
      "3366\n",
      "3417\n",
      "3468\n",
      "3519\n",
      "3570\n",
      "3621\n",
      "3672\n",
      "3723\n",
      "3774\n",
      "3825\n",
      "3876\n",
      "3927\n",
      "3978\n",
      "4029\n",
      "4080\n",
      "4131\n",
      "4182\n",
      "4233\n",
      "4284\n",
      "4335\n",
      "4386\n",
      "4437\n",
      "4488\n",
      "4539\n",
      "4590\n",
      "4641\n",
      "4692\n",
      "4743\n",
      "4794\n",
      "4845\n",
      "4896\n",
      "4947\n",
      "4998\n",
      "5049\n",
      "5100\n"
     ]
    }
   ],
   "source": [
    "data = []\n",
    "\n",
    "for p in range(100):\n",
    "    hh = BeautifulSoup(driver.page_source, 'html.parser')\n",
    "    ads = hh.find_all('div', {'class': 'vacancy-serp-item__layout'})\n",
    "\n",
    "    for ad in ads:\n",
    "        try:\n",
    "            link = ad.find('a', {'class': 'bloko-link'}).get('href')\n",
    "            vacancy = ad.find('span', {'class': 'serp-item__title-link'}).text\n",
    "            wage = ad.find('span', {'data-qa': 'vacancy-serp__vacancy-compensation'}).text\n",
    "            company = ad.find('a', {'data-qa': 'vacancy-serp__vacancy-employer'}).find('span').text\n",
    "            city = ad.find('div', {'data-qa': 'vacancy-serp__vacancy-address'}).text\n",
    "            experience = ad.find('div', {'data-qa': 'vacancy-serp__vacancy-work-experience'}).text\n",
    "            data.append([link, vacancy, wage, company, city, experience])\n",
    "        except:\n",
    "            pass\n",
    "    print(len(data))\n",
    "\n",
    "    driver.find_element(By.XPATH, '//a[@data-qa=\"pager-next\"]').click()\n",
    "    sleep(0.3)\n",
    "        "
   ]
  },
  {
   "cell_type": "markdown",
   "metadata": {},
   "source": [
    "Конченный цикл ниже не трогать"
   ]
  },
  {
   "cell_type": "code",
   "execution_count": null,
   "metadata": {},
   "outputs": [],
   "source": [
    "from fake_useragent import UserAgent\n",
    "ua = UserAgent()\n",
    "saf_ua = ua.safari\n",
    "request_headers = {'user-agent': saf_ua} #погуглить что это\n",
    "\n",
    "extra_data = []\n",
    "for vac in data:\n",
    "    vac_url = vac[0]\n",
    "    r = requests.get(vac_url, headers= request_headers)\n",
    "    tree = BeautifulSoup(r.content, 'html.parser')\n",
    "    try:\n",
    "        employment = tree.find('p', {'data-qa': 'vacancy-view-employment-mode'}).text\n",
    "        company_rate = tree.find('div', {'data-qa': 'employer-review-small-widget-total-rating'}).text\n",
    "    except:\n",
    "        pass\n",
    "    extra_data.append([vac_url, employment, company_rate])\n",
    "    \n",
    "    print(len(extra_data))\n",
    "extra_data"
   ]
  },
  {
   "cell_type": "markdown",
   "metadata": {},
   "source": [
    "не трогать"
   ]
  },
  {
   "cell_type": "code",
   "execution_count": null,
   "metadata": {},
   "outputs": [],
   "source": [
    "df_1 = pd.DataFrame(data, columns = ['link', 'vacancy', 'wage', 'company', 'city', 'experience'])\n",
    "df_1.head()\n"
   ]
  },
  {
   "cell_type": "markdown",
   "metadata": {},
   "source": [
    "df_a можно трогать"
   ]
  },
  {
   "cell_type": "code",
   "execution_count": 62,
   "metadata": {},
   "outputs": [
    {
     "data": {
      "text/html": [
       "<div>\n",
       "<style scoped>\n",
       "    .dataframe tbody tr th:only-of-type {\n",
       "        vertical-align: middle;\n",
       "    }\n",
       "\n",
       "    .dataframe tbody tr th {\n",
       "        vertical-align: top;\n",
       "    }\n",
       "\n",
       "    .dataframe thead th {\n",
       "        text-align: right;\n",
       "    }\n",
       "</style>\n",
       "<table border=\"1\" class=\"dataframe\">\n",
       "  <thead>\n",
       "    <tr style=\"text-align: right;\">\n",
       "      <th></th>\n",
       "      <th>link</th>\n",
       "      <th>vacancy</th>\n",
       "      <th>wage</th>\n",
       "      <th>company</th>\n",
       "      <th>city</th>\n",
       "      <th>experience</th>\n",
       "    </tr>\n",
       "  </thead>\n",
       "  <tbody>\n",
       "    <tr>\n",
       "      <th>0</th>\n",
       "      <td>https://adsrv.hh.ru/click?b=997784&amp;place=35&amp;me...</td>\n",
       "      <td>Арматурщик-бетонщик</td>\n",
       "      <td>120 000 – 130 000 ₽</td>\n",
       "      <td>ООО ТрансСтрой</td>\n",
       "      <td>Москва</td>\n",
       "      <td>Опыт от 3 до 6 лет</td>\n",
       "    </tr>\n",
       "    <tr>\n",
       "      <th>1</th>\n",
       "      <td>https://adsrv.hh.ru/click?b=981040&amp;place=36&amp;me...</td>\n",
       "      <td>Сборщик ВкусВилл ДаркСтор (м.Авиамоторная)</td>\n",
       "      <td>80 000 – 120 000 ₽</td>\n",
       "      <td>ВкусВилл. Даркстор</td>\n",
       "      <td>Москва</td>\n",
       "      <td>Без опыта</td>\n",
       "    </tr>\n",
       "    <tr>\n",
       "      <th>2</th>\n",
       "      <td>https://hh.ru/vacancy/98672015?hhtmFrom=vacanc...</td>\n",
       "      <td>Менеджер по заполнению анкет (удаленно)</td>\n",
       "      <td>36 800 – 60 000 ₽</td>\n",
       "      <td>ИП Кабин Дмитрий Владимирович</td>\n",
       "      <td>Москва</td>\n",
       "      <td>Без опыта</td>\n",
       "    </tr>\n",
       "    <tr>\n",
       "      <th>3</th>\n",
       "      <td>https://hh.ru/vacancy/98657055?hhtmFrom=vacanc...</td>\n",
       "      <td>Ручной тестировщик (QA Manual Junior)</td>\n",
       "      <td>от 60 000 ₽</td>\n",
       "      <td>Oxytocin</td>\n",
       "      <td>Москва</td>\n",
       "      <td>Без опыта</td>\n",
       "    </tr>\n",
       "    <tr>\n",
       "      <th>4</th>\n",
       "      <td>https://hh.ru/vacancy/93848299?utm_source=head...</td>\n",
       "      <td>Торговый представитель (Водитель-курьер)</td>\n",
       "      <td>170 000 – 250 000 ₽</td>\n",
       "      <td>ЦУМ</td>\n",
       "      <td>Москва</td>\n",
       "      <td>Опыт от 1 года до 3 лет</td>\n",
       "    </tr>\n",
       "  </tbody>\n",
       "</table>\n",
       "</div>"
      ],
      "text/plain": [
       "                                                link  \\\n",
       "0  https://adsrv.hh.ru/click?b=997784&place=35&me...   \n",
       "1  https://adsrv.hh.ru/click?b=981040&place=36&me...   \n",
       "2  https://hh.ru/vacancy/98672015?hhtmFrom=vacanc...   \n",
       "3  https://hh.ru/vacancy/98657055?hhtmFrom=vacanc...   \n",
       "4  https://hh.ru/vacancy/93848299?utm_source=head...   \n",
       "\n",
       "                                      vacancy                 wage  \\\n",
       "0                         Арматурщик-бетонщик  120 000 – 130 000 ₽   \n",
       "1  Сборщик ВкусВилл ДаркСтор (м.Авиамоторная)   80 000 – 120 000 ₽   \n",
       "2     Менеджер по заполнению анкет (удаленно)    36 800 – 60 000 ₽   \n",
       "3       Ручной тестировщик (QA Manual Junior)          от 60 000 ₽   \n",
       "4    Торговый представитель (Водитель-курьер)  170 000 – 250 000 ₽   \n",
       "\n",
       "                         company    city               experience  \n",
       "0                 ООО ТрансСтрой  Москва       Опыт от 3 до 6 лет  \n",
       "1             ВкусВилл. Даркстор  Москва                Без опыта  \n",
       "2  ИП Кабин Дмитрий Владимирович  Москва                Без опыта  \n",
       "3                       Oxytocin  Москва                Без опыта  \n",
       "4                            ЦУМ  Москва  Опыт от 1 года до 3 лет  "
      ]
     },
     "execution_count": 62,
     "metadata": {},
     "output_type": "execute_result"
    }
   ],
   "source": [
    "df_a = df_1\n",
    "df_a.head()"
   ]
  },
  {
   "cell_type": "markdown",
   "metadata": {},
   "source": [
    "не трггать"
   ]
  },
  {
   "cell_type": "code",
   "execution_count": null,
   "metadata": {},
   "outputs": [],
   "source": [
    "extra_df = pd.DataFrame(extra_data, columns= ['link', 'employment', 'company_rate'])\n",
    "extra_df.head()"
   ]
  },
  {
   "cell_type": "markdown",
   "metadata": {},
   "source": [
    "df_b можно трогать"
   ]
  },
  {
   "cell_type": "code",
   "execution_count": 63,
   "metadata": {},
   "outputs": [
    {
     "data": {
      "text/html": [
       "<div>\n",
       "<style scoped>\n",
       "    .dataframe tbody tr th:only-of-type {\n",
       "        vertical-align: middle;\n",
       "    }\n",
       "\n",
       "    .dataframe tbody tr th {\n",
       "        vertical-align: top;\n",
       "    }\n",
       "\n",
       "    .dataframe thead th {\n",
       "        text-align: right;\n",
       "    }\n",
       "</style>\n",
       "<table border=\"1\" class=\"dataframe\">\n",
       "  <thead>\n",
       "    <tr style=\"text-align: right;\">\n",
       "      <th></th>\n",
       "      <th>link</th>\n",
       "      <th>employment</th>\n",
       "      <th>company_rate</th>\n",
       "    </tr>\n",
       "  </thead>\n",
       "  <tbody>\n",
       "    <tr>\n",
       "      <th>0</th>\n",
       "      <td>https://adsrv.hh.ru/click?b=997784&amp;place=35&amp;me...</td>\n",
       "      <td>Полная занятость, Вахтовый метод</td>\n",
       "      <td>4,9</td>\n",
       "    </tr>\n",
       "    <tr>\n",
       "      <th>1</th>\n",
       "      <td>https://adsrv.hh.ru/click?b=981040&amp;place=36&amp;me...</td>\n",
       "      <td>Полная занятость, сменный график</td>\n",
       "      <td>3,7</td>\n",
       "    </tr>\n",
       "    <tr>\n",
       "      <th>2</th>\n",
       "      <td>https://hh.ru/vacancy/98672015?hhtmFrom=vacanc...</td>\n",
       "      <td>Полная занятость, удаленная работа</td>\n",
       "      <td>3,5</td>\n",
       "    </tr>\n",
       "    <tr>\n",
       "      <th>3</th>\n",
       "      <td>https://hh.ru/vacancy/98657055?hhtmFrom=vacanc...</td>\n",
       "      <td>Полная занятость, полный день</td>\n",
       "      <td>3,5</td>\n",
       "    </tr>\n",
       "    <tr>\n",
       "      <th>4</th>\n",
       "      <td>https://hh.ru/vacancy/93848299?utm_source=head...</td>\n",
       "      <td>Полная занятость, сменный график</td>\n",
       "      <td>4,0</td>\n",
       "    </tr>\n",
       "  </tbody>\n",
       "</table>\n",
       "</div>"
      ],
      "text/plain": [
       "                                                link  \\\n",
       "0  https://adsrv.hh.ru/click?b=997784&place=35&me...   \n",
       "1  https://adsrv.hh.ru/click?b=981040&place=36&me...   \n",
       "2  https://hh.ru/vacancy/98672015?hhtmFrom=vacanc...   \n",
       "3  https://hh.ru/vacancy/98657055?hhtmFrom=vacanc...   \n",
       "4  https://hh.ru/vacancy/93848299?utm_source=head...   \n",
       "\n",
       "                           employment company_rate  \n",
       "0    Полная занятость, Вахтовый метод          4,9  \n",
       "1    Полная занятость, сменный график          3,7  \n",
       "2  Полная занятость, удаленная работа          3,5  \n",
       "3       Полная занятость, полный день          3,5  \n",
       "4    Полная занятость, сменный график          4,0  "
      ]
     },
     "execution_count": 63,
     "metadata": {},
     "output_type": "execute_result"
    }
   ],
   "source": [
    "df_b = extra_df\n",
    "df_b.head()"
   ]
  },
  {
   "cell_type": "code",
   "execution_count": 64,
   "metadata": {},
   "outputs": [],
   "source": [
    "df_a.to_csv('df_a.csv', encoding='utf-8')\n",
    "df_b.to_csv('df_b.csv', encoding='utf-8')\n"
   ]
  },
  {
   "cell_type": "code",
   "execution_count": 60,
   "metadata": {},
   "outputs": [
    {
     "data": {
      "text/plain": [
       "(510000, 8)"
      ]
     },
     "execution_count": 60,
     "metadata": {},
     "output_type": "execute_result"
    }
   ],
   "source": [
    "df = pd.merge(df_a, df_b, on='link', how='inner')\n",
    "df.shape"
   ]
  }
 ],
 "metadata": {
  "kernelspec": {
   "display_name": "Python 3",
   "language": "python",
   "name": "python3"
  },
  "language_info": {
   "codemirror_mode": {
    "name": "ipython",
    "version": 3
   },
   "file_extension": ".py",
   "mimetype": "text/x-python",
   "name": "python",
   "nbconvert_exporter": "python",
   "pygments_lexer": "ipython3",
   "version": "3.9.6"
  }
 },
 "nbformat": 4,
 "nbformat_minor": 2
}
