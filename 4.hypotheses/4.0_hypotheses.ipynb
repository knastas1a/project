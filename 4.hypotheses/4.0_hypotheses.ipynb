{
 "cells": [
  {
   "cell_type": "code",
   "execution_count": 11,
   "metadata": {},
   "outputs": [],
   "source": [
    "import pandas as pd\n",
    "import numpy as np\n",
    "import scipy.stats as sts"
   ]
  },
  {
   "cell_type": "markdown",
   "metadata": {},
   "source": [
    "Итак, мы уже посмотрели на данные со всех сторон и покрутили их, как только могли. Поэтому пришло время для __гипотез__!"
   ]
  },
  {
   "cell_type": "code",
   "execution_count": 38,
   "metadata": {},
   "outputs": [
    {
     "data": {
      "text/html": [
       "<div>\n",
       "<style scoped>\n",
       "    .dataframe tbody tr th:only-of-type {\n",
       "        vertical-align: middle;\n",
       "    }\n",
       "\n",
       "    .dataframe tbody tr th {\n",
       "        vertical-align: top;\n",
       "    }\n",
       "\n",
       "    .dataframe thead th {\n",
       "        text-align: right;\n",
       "    }\n",
       "</style>\n",
       "<table border=\"1\" class=\"dataframe\">\n",
       "  <thead>\n",
       "    <tr style=\"text-align: right;\">\n",
       "      <th></th>\n",
       "      <th>link</th>\n",
       "      <th>vacancy</th>\n",
       "      <th>company</th>\n",
       "      <th>city</th>\n",
       "      <th>experience</th>\n",
       "      <th>company_rating</th>\n",
       "      <th>working_hours</th>\n",
       "      <th>employee_location</th>\n",
       "      <th>wage_k</th>\n",
       "    </tr>\n",
       "  </thead>\n",
       "  <tbody>\n",
       "    <tr>\n",
       "      <th>0</th>\n",
       "      <td>https://adsrv.hh.ru/click?b=1003372&amp;place=35&amp;m...</td>\n",
       "      <td>Водитель со своим грузовым автомобилем</td>\n",
       "      <td>ИП Петрикин Александр Вячеславович</td>\n",
       "      <td>Москва</td>\n",
       "      <td>0</td>\n",
       "      <td>4.5</td>\n",
       "      <td>Полная занятость</td>\n",
       "      <td>В офисе</td>\n",
       "      <td>180.0</td>\n",
       "    </tr>\n",
       "    <tr>\n",
       "      <th>1</th>\n",
       "      <td>https://adsrv.hh.ru/click?b=993174&amp;place=36&amp;me...</td>\n",
       "      <td>Консультант поддержки в Яндекс Путешествия</td>\n",
       "      <td>Яндекс Крауд: Поддержка</td>\n",
       "      <td>Москва</td>\n",
       "      <td>0</td>\n",
       "      <td>4.0</td>\n",
       "      <td>Полная занятость</td>\n",
       "      <td>Удалённая работа</td>\n",
       "      <td>30.0</td>\n",
       "    </tr>\n",
       "    <tr>\n",
       "      <th>2</th>\n",
       "      <td>https://hh.ru/vacancy/98672015?hhtmFrom=vacanc...</td>\n",
       "      <td>Менеджер по заполнению анкет (удаленно)</td>\n",
       "      <td>ИП Кабин Дмитрий Владимирович</td>\n",
       "      <td>Москва</td>\n",
       "      <td>0</td>\n",
       "      <td>3.5</td>\n",
       "      <td>Полная занятость</td>\n",
       "      <td>Удалённая работа</td>\n",
       "      <td>36.8</td>\n",
       "    </tr>\n",
       "    <tr>\n",
       "      <th>3</th>\n",
       "      <td>https://hh.ru/vacancy/98657055?hhtmFrom=vacanc...</td>\n",
       "      <td>Ручной тестировщик (QA Manual Junior)</td>\n",
       "      <td>Oxytocin</td>\n",
       "      <td>Москва</td>\n",
       "      <td>0</td>\n",
       "      <td>3.5</td>\n",
       "      <td>Полная занятость</td>\n",
       "      <td>В офисе</td>\n",
       "      <td>60.0</td>\n",
       "    </tr>\n",
       "    <tr>\n",
       "      <th>4</th>\n",
       "      <td>https://hh.ru/vacancy/93848299?utm_source=head...</td>\n",
       "      <td>Торговый представитель (Водитель-курьер)</td>\n",
       "      <td>ЦУМ</td>\n",
       "      <td>Москва</td>\n",
       "      <td>1</td>\n",
       "      <td>4.0</td>\n",
       "      <td>Полная занятость</td>\n",
       "      <td>Сменный график</td>\n",
       "      <td>170.0</td>\n",
       "    </tr>\n",
       "  </tbody>\n",
       "</table>\n",
       "</div>"
      ],
      "text/plain": [
       "                                                link  \\\n",
       "0  https://adsrv.hh.ru/click?b=1003372&place=35&m...   \n",
       "1  https://adsrv.hh.ru/click?b=993174&place=36&me...   \n",
       "2  https://hh.ru/vacancy/98672015?hhtmFrom=vacanc...   \n",
       "3  https://hh.ru/vacancy/98657055?hhtmFrom=vacanc...   \n",
       "4  https://hh.ru/vacancy/93848299?utm_source=head...   \n",
       "\n",
       "                                      vacancy  \\\n",
       "0      Водитель со своим грузовым автомобилем   \n",
       "1  Консультант поддержки в Яндекс Путешествия   \n",
       "2     Менеджер по заполнению анкет (удаленно)   \n",
       "3       Ручной тестировщик (QA Manual Junior)   \n",
       "4    Торговый представитель (Водитель-курьер)   \n",
       "\n",
       "                              company    city  experience  company_rating  \\\n",
       "0  ИП Петрикин Александр Вячеславович  Москва           0             4.5   \n",
       "1             Яндекс Крауд: Поддержка  Москва           0             4.0   \n",
       "2       ИП Кабин Дмитрий Владимирович  Москва           0             3.5   \n",
       "3                            Oxytocin  Москва           0             3.5   \n",
       "4                                 ЦУМ  Москва           1             4.0   \n",
       "\n",
       "      working_hours employee_location  wage_k  \n",
       "0  Полная занятость           В офисе   180.0  \n",
       "1  Полная занятость  Удалённая работа    30.0  \n",
       "2  Полная занятость  Удалённая работа    36.8  \n",
       "3  Полная занятость           В офисе    60.0  \n",
       "4  Полная занятость    Сменный график   170.0  "
      ]
     },
     "execution_count": 38,
     "metadata": {},
     "output_type": "execute_result"
    }
   ],
   "source": [
    "df = pd.read_csv('hh_clean.csv')\n",
    "df.head()"
   ]
  },
  {
   "cell_type": "markdown",
   "metadata": {},
   "source": [
    "`H0:` Высокий рейтинг(>=4.0) компании не влияет на заработную плату (μ(a) = μ(b))                                                                                                 \n",
    "`H1:` Высокий рейтинг(>=4.0) компании влияет на заработную плату (μ(a) ≠ μ(b))                                                                                                             \n",
    "`α` = 0.05"
   ]
  },
  {
   "cell_type": "code",
   "execution_count": 39,
   "metadata": {},
   "outputs": [],
   "source": [
    "a = df['wage_k'].loc[df['company_rating'] >= 4.0].to_list()\n",
    "b = df['wage_k'].loc[df['company_rating'] < 4.0 ].to_list()"
   ]
  },
  {
   "cell_type": "code",
   "execution_count": 40,
   "metadata": {},
   "outputs": [
    {
     "data": {
      "text/plain": [
       "TtestResult(statistic=3.343773354219604, pvalue=0.0008411689856138243, df=2075.0)"
      ]
     },
     "execution_count": 40,
     "metadata": {},
     "output_type": "execute_result"
    }
   ],
   "source": [
    "sts.ttest_ind(a, b)"
   ]
  },
  {
   "cell_type": "markdown",
   "metadata": {},
   "source": [
    "__p-value < α__, поэтому мы вынуждены отвергнуть Н0, так как у нас есть основания полагать, что высокий рейтинг компании влияет на заработную плату"
   ]
  },
  {
   "cell_type": "markdown",
   "metadata": {},
   "source": [
    "`H0:` Опыт работы более 6 лет не влияет на заработную плату                                                                                                 \n",
    "`H1:` Опыт работы более 6 лет влияет на заработную плату                                                                                                              \n",
    "`α` = 0.05"
   ]
  },
  {
   "cell_type": "code",
   "execution_count": 44,
   "metadata": {},
   "outputs": [
    {
     "name": "stdout",
     "output_type": "stream",
     "text": [
      "Полученное значение: 7.87, Доверительный интервал: (-1.96 , 1.96)\n"
     ]
    }
   ],
   "source": [
    "alpha = 0.05  \n",
    "x = df['wage_k'].loc[df['experience'] == 6].values\n",
    "y = df['wage_k'].loc[df['experience'] != 6].values\n",
    "\n",
    "diff = x.mean() - y.mean() \n",
    "nx, ny = x.size, y.size\n",
    "diff_std = np.sqrt(x.var(ddof=1)/nx + y.var(ddof=1)/nx)\n",
    "                                    \n",
    "z_obs = diff/diff_std    \n",
    "z_crit = sts.norm.ppf(1 - alpha/2) \n",
    "\n",
    "print(f'Полученное значение: {z_obs:.3}, Доверительный интервал: ({-z_crit:.3} , {z_crit:.3})')"
   ]
  },
  {
   "cell_type": "markdown",
   "metadata": {},
   "source": [
    "Значение __7.87__ находится __за пределами ДИ__, поэтому мы __отвергаем Н0__"
   ]
  },
  {
   "cell_type": "markdown",
   "metadata": {},
   "source": [
    "Итак, в ходе проверки гипотез мы выяснили, что и высокий рейтинг компании, и длительный опыт работы оказывают влияние на размер заработной платы!"
   ]
  }
 ],
 "metadata": {
  "kernelspec": {
   "display_name": "Python 3",
   "language": "python",
   "name": "python3"
  },
  "language_info": {
   "codemirror_mode": {
    "name": "ipython",
    "version": 3
   },
   "file_extension": ".py",
   "mimetype": "text/x-python",
   "name": "python",
   "nbconvert_exporter": "python",
   "pygments_lexer": "ipython3",
   "version": "3.9.6"
  }
 },
 "nbformat": 4,
 "nbformat_minor": 2
}
