{
 "cells": [
  {
   "cell_type": "markdown",
   "metadata": {},
   "source": [
    "__В этой части мы подготовим данные к визуализации, чтобы графики(и их оси) не выглядели громоздко__"
   ]
  },
  {
   "cell_type": "code",
   "execution_count": 51,
   "metadata": {},
   "outputs": [],
   "source": [
    "import pandas as pd\n",
    "import seaborn as sns\n",
    "import matplotlib.pyplot as plt"
   ]
  },
  {
   "cell_type": "code",
   "execution_count": 52,
   "metadata": {},
   "outputs": [
    {
     "data": {
      "text/html": [
       "<div>\n",
       "<style scoped>\n",
       "    .dataframe tbody tr th:only-of-type {\n",
       "        vertical-align: middle;\n",
       "    }\n",
       "\n",
       "    .dataframe tbody tr th {\n",
       "        vertical-align: top;\n",
       "    }\n",
       "\n",
       "    .dataframe thead th {\n",
       "        text-align: right;\n",
       "    }\n",
       "</style>\n",
       "<table border=\"1\" class=\"dataframe\">\n",
       "  <thead>\n",
       "    <tr style=\"text-align: right;\">\n",
       "      <th></th>\n",
       "      <th>link</th>\n",
       "      <th>vacancy</th>\n",
       "      <th>wage</th>\n",
       "      <th>company</th>\n",
       "      <th>city</th>\n",
       "      <th>experience</th>\n",
       "      <th>company_rating</th>\n",
       "      <th>working_hours</th>\n",
       "      <th>employee_location</th>\n",
       "    </tr>\n",
       "  </thead>\n",
       "  <tbody>\n",
       "    <tr>\n",
       "      <th>0</th>\n",
       "      <td>https://adsrv.hh.ru/click?b=1003372&amp;place=35&amp;m...</td>\n",
       "      <td>Водитель со своим грузовым автомобилем</td>\n",
       "      <td>180000</td>\n",
       "      <td>ИП Петрикин Александр Вячеславович</td>\n",
       "      <td>Москва</td>\n",
       "      <td>Без опыта</td>\n",
       "      <td>4.5</td>\n",
       "      <td>Полная занятость</td>\n",
       "      <td>В офисе</td>\n",
       "    </tr>\n",
       "    <tr>\n",
       "      <th>1</th>\n",
       "      <td>https://adsrv.hh.ru/click?b=993174&amp;place=36&amp;me...</td>\n",
       "      <td>Консультант поддержки в Яндекс Путешествия</td>\n",
       "      <td>30000</td>\n",
       "      <td>Яндекс Крауд: Поддержка</td>\n",
       "      <td>Москва</td>\n",
       "      <td>Без опыта</td>\n",
       "      <td>4.0</td>\n",
       "      <td>Полная занятость</td>\n",
       "      <td>Удалённая работа</td>\n",
       "    </tr>\n",
       "    <tr>\n",
       "      <th>2</th>\n",
       "      <td>https://hh.ru/vacancy/98672015?hhtmFrom=vacanc...</td>\n",
       "      <td>Менеджер по заполнению анкет (удаленно)</td>\n",
       "      <td>36800</td>\n",
       "      <td>ИП Кабин Дмитрий Владимирович</td>\n",
       "      <td>Москва</td>\n",
       "      <td>Без опыта</td>\n",
       "      <td>3.5</td>\n",
       "      <td>Полная занятость</td>\n",
       "      <td>Удалённая работа</td>\n",
       "    </tr>\n",
       "    <tr>\n",
       "      <th>3</th>\n",
       "      <td>https://hh.ru/vacancy/98657055?hhtmFrom=vacanc...</td>\n",
       "      <td>Ручной тестировщик (QA Manual Junior)</td>\n",
       "      <td>60000</td>\n",
       "      <td>Oxytocin</td>\n",
       "      <td>Москва</td>\n",
       "      <td>Без опыта</td>\n",
       "      <td>3.5</td>\n",
       "      <td>Полная занятость</td>\n",
       "      <td>В офисе</td>\n",
       "    </tr>\n",
       "    <tr>\n",
       "      <th>4</th>\n",
       "      <td>https://hh.ru/vacancy/93848299?utm_source=head...</td>\n",
       "      <td>Торговый представитель (Водитель-курьер)</td>\n",
       "      <td>170000</td>\n",
       "      <td>ЦУМ</td>\n",
       "      <td>Москва</td>\n",
       "      <td>Опыт от 1 года до 3 лет</td>\n",
       "      <td>4.0</td>\n",
       "      <td>Полная занятость</td>\n",
       "      <td>Сменный график</td>\n",
       "    </tr>\n",
       "    <tr>\n",
       "      <th>...</th>\n",
       "      <td>...</td>\n",
       "      <td>...</td>\n",
       "      <td>...</td>\n",
       "      <td>...</td>\n",
       "      <td>...</td>\n",
       "      <td>...</td>\n",
       "      <td>...</td>\n",
       "      <td>...</td>\n",
       "      <td>...</td>\n",
       "    </tr>\n",
       "    <tr>\n",
       "      <th>2072</th>\n",
       "      <td>https://hh.ru/vacancy/98610683?hhtmFrom=vacanc...</td>\n",
       "      <td>Кладовщик</td>\n",
       "      <td>70000</td>\n",
       "      <td>ООО ЦУГАМ</td>\n",
       "      <td>Москва</td>\n",
       "      <td>Опыт от 1 года до 3 лет</td>\n",
       "      <td>2.0</td>\n",
       "      <td>Частичная занятость</td>\n",
       "      <td>В офисе</td>\n",
       "    </tr>\n",
       "    <tr>\n",
       "      <th>2073</th>\n",
       "      <td>https://hh.ru/vacancy/98627094?hhtmFrom=vacanc...</td>\n",
       "      <td>Специалист по клиническим исследованиям, CRA, ...</td>\n",
       "      <td>70000</td>\n",
       "      <td>ООО ЦУГАМ</td>\n",
       "      <td>Москва</td>\n",
       "      <td>Опыт от 1 года до 3 лет</td>\n",
       "      <td>2.0</td>\n",
       "      <td>Частичная занятость</td>\n",
       "      <td>В офисе</td>\n",
       "    </tr>\n",
       "    <tr>\n",
       "      <th>2074</th>\n",
       "      <td>https://hh.ru/vacancy/98631350?hhtmFrom=vacanc...</td>\n",
       "      <td>Официант в Кремль</td>\n",
       "      <td>70000</td>\n",
       "      <td>ФГБУ Комбинат питания Кремлевский</td>\n",
       "      <td>Москва</td>\n",
       "      <td>Опыт от 3 до 6 лет</td>\n",
       "      <td>2.0</td>\n",
       "      <td>Частичная занятость</td>\n",
       "      <td>В офисе</td>\n",
       "    </tr>\n",
       "    <tr>\n",
       "      <th>2075</th>\n",
       "      <td>https://hh.ru/vacancy/98673570?hhtmFrom=vacanc...</td>\n",
       "      <td>Водитель с грузовым автомобилем, смена от 9000...</td>\n",
       "      <td>160000</td>\n",
       "      <td>Центр Доставки</td>\n",
       "      <td>Москва</td>\n",
       "      <td>Без опыта</td>\n",
       "      <td>2.0</td>\n",
       "      <td>Частичная занятость</td>\n",
       "      <td>В офисе</td>\n",
       "    </tr>\n",
       "    <tr>\n",
       "      <th>2076</th>\n",
       "      <td>https://hh.ru/vacancy/96511552?hhtmFrom=vacanc...</td>\n",
       "      <td>Делопроизводитель канцелярии</td>\n",
       "      <td>80000</td>\n",
       "      <td>ФГБУ НМИЦ ГБ им. Гельмгольца Минздрава России</td>\n",
       "      <td>Москва</td>\n",
       "      <td>Опыт от 1 года до 3 лет</td>\n",
       "      <td>2.0</td>\n",
       "      <td>Частичная занятость</td>\n",
       "      <td>В офисе</td>\n",
       "    </tr>\n",
       "  </tbody>\n",
       "</table>\n",
       "<p>2077 rows × 9 columns</p>\n",
       "</div>"
      ],
      "text/plain": [
       "                                                   link  \\\n",
       "0     https://adsrv.hh.ru/click?b=1003372&place=35&m...   \n",
       "1     https://adsrv.hh.ru/click?b=993174&place=36&me...   \n",
       "2     https://hh.ru/vacancy/98672015?hhtmFrom=vacanc...   \n",
       "3     https://hh.ru/vacancy/98657055?hhtmFrom=vacanc...   \n",
       "4     https://hh.ru/vacancy/93848299?utm_source=head...   \n",
       "...                                                 ...   \n",
       "2072  https://hh.ru/vacancy/98610683?hhtmFrom=vacanc...   \n",
       "2073  https://hh.ru/vacancy/98627094?hhtmFrom=vacanc...   \n",
       "2074  https://hh.ru/vacancy/98631350?hhtmFrom=vacanc...   \n",
       "2075  https://hh.ru/vacancy/98673570?hhtmFrom=vacanc...   \n",
       "2076  https://hh.ru/vacancy/96511552?hhtmFrom=vacanc...   \n",
       "\n",
       "                                                vacancy    wage  \\\n",
       "0                Водитель со своим грузовым автомобилем  180000   \n",
       "1            Консультант поддержки в Яндекс Путешествия   30000   \n",
       "2               Менеджер по заполнению анкет (удаленно)   36800   \n",
       "3                 Ручной тестировщик (QA Manual Junior)   60000   \n",
       "4              Торговый представитель (Водитель-курьер)  170000   \n",
       "...                                                 ...     ...   \n",
       "2072                                          Кладовщик   70000   \n",
       "2073  Специалист по клиническим исследованиям, CRA, ...   70000   \n",
       "2074                                  Официант в Кремль   70000   \n",
       "2075  Водитель с грузовым автомобилем, смена от 9000...  160000   \n",
       "2076                       Делопроизводитель канцелярии   80000   \n",
       "\n",
       "                                            company    city  \\\n",
       "0                ИП Петрикин Александр Вячеславович  Москва   \n",
       "1                           Яндекс Крауд: Поддержка  Москва   \n",
       "2                     ИП Кабин Дмитрий Владимирович  Москва   \n",
       "3                                          Oxytocin  Москва   \n",
       "4                                               ЦУМ  Москва   \n",
       "...                                             ...     ...   \n",
       "2072                                      ООО ЦУГАМ  Москва   \n",
       "2073                                      ООО ЦУГАМ  Москва   \n",
       "2074              ФГБУ Комбинат питания Кремлевский  Москва   \n",
       "2075                                 Центр Доставки  Москва   \n",
       "2076  ФГБУ НМИЦ ГБ им. Гельмгольца Минздрава России  Москва   \n",
       "\n",
       "                   experience  company_rating        working_hours  \\\n",
       "0                   Без опыта             4.5     Полная занятость   \n",
       "1                   Без опыта             4.0     Полная занятость   \n",
       "2                   Без опыта             3.5     Полная занятость   \n",
       "3                   Без опыта             3.5     Полная занятость   \n",
       "4     Опыт от 1 года до 3 лет             4.0     Полная занятость   \n",
       "...                       ...             ...                  ...   \n",
       "2072  Опыт от 1 года до 3 лет             2.0  Частичная занятость   \n",
       "2073  Опыт от 1 года до 3 лет             2.0  Частичная занятость   \n",
       "2074       Опыт от 3 до 6 лет             2.0  Частичная занятость   \n",
       "2075                Без опыта             2.0  Частичная занятость   \n",
       "2076  Опыт от 1 года до 3 лет             2.0  Частичная занятость   \n",
       "\n",
       "     employee_location  \n",
       "0              В офисе  \n",
       "1     Удалённая работа  \n",
       "2     Удалённая работа  \n",
       "3              В офисе  \n",
       "4       Сменный график  \n",
       "...                ...  \n",
       "2072           В офисе  \n",
       "2073           В офисе  \n",
       "2074           В офисе  \n",
       "2075           В офисе  \n",
       "2076           В офисе  \n",
       "\n",
       "[2077 rows x 9 columns]"
      ]
     },
     "execution_count": 52,
     "metadata": {},
     "output_type": "execute_result"
    }
   ],
   "source": [
    "df = pd.read_csv('hh_EDA.csv')\n",
    "df"
   ]
  },
  {
   "cell_type": "markdown",
   "metadata": {},
   "source": [
    "__Описание переменных:__\n",
    "* `link` - ссылка на вакансию\n",
    "* `vacancy` - должность\n",
    "* `wage` - заявленная в объявлении зарплата(целевая переменная)\n",
    "* `company` - работодатель\n",
    "* `city` - город\n",
    "* `experience` - требуемый опыт работы \n",
    "* `company_rating` - рейтинг работодателя на сайте hh.ru\n",
    "* `working_hours` - занятость\n",
    "* `employee_location` - место работы, график работы"
   ]
  },
  {
   "cell_type": "code",
   "execution_count": 53,
   "metadata": {},
   "outputs": [
    {
     "data": {
      "text/plain": [
       "(1000, 2000000)"
      ]
     },
     "execution_count": 53,
     "metadata": {},
     "output_type": "execute_result"
    }
   ],
   "source": [
    "min(df.wage), max(df.wage)"
   ]
  },
  {
   "cell_type": "markdown",
   "metadata": {},
   "source": [
    "В столбце с зарплатами большие числа и большой разброс, хочется как-то подправить. Для удобства разделим на 1000."
   ]
  },
  {
   "cell_type": "code",
   "execution_count": 54,
   "metadata": {},
   "outputs": [
    {
     "data": {
      "text/html": [
       "<div>\n",
       "<style scoped>\n",
       "    .dataframe tbody tr th:only-of-type {\n",
       "        vertical-align: middle;\n",
       "    }\n",
       "\n",
       "    .dataframe tbody tr th {\n",
       "        vertical-align: top;\n",
       "    }\n",
       "\n",
       "    .dataframe thead th {\n",
       "        text-align: right;\n",
       "    }\n",
       "</style>\n",
       "<table border=\"1\" class=\"dataframe\">\n",
       "  <thead>\n",
       "    <tr style=\"text-align: right;\">\n",
       "      <th></th>\n",
       "      <th>link</th>\n",
       "      <th>vacancy</th>\n",
       "      <th>wage</th>\n",
       "      <th>company</th>\n",
       "      <th>city</th>\n",
       "      <th>experience</th>\n",
       "      <th>company_rating</th>\n",
       "      <th>working_hours</th>\n",
       "      <th>employee_location</th>\n",
       "      <th>wage_k</th>\n",
       "    </tr>\n",
       "  </thead>\n",
       "  <tbody>\n",
       "    <tr>\n",
       "      <th>0</th>\n",
       "      <td>https://adsrv.hh.ru/click?b=1003372&amp;place=35&amp;m...</td>\n",
       "      <td>Водитель со своим грузовым автомобилем</td>\n",
       "      <td>180000</td>\n",
       "      <td>ИП Петрикин Александр Вячеславович</td>\n",
       "      <td>Москва</td>\n",
       "      <td>Без опыта</td>\n",
       "      <td>4.5</td>\n",
       "      <td>Полная занятость</td>\n",
       "      <td>В офисе</td>\n",
       "      <td>180.0</td>\n",
       "    </tr>\n",
       "    <tr>\n",
       "      <th>1</th>\n",
       "      <td>https://adsrv.hh.ru/click?b=993174&amp;place=36&amp;me...</td>\n",
       "      <td>Консультант поддержки в Яндекс Путешествия</td>\n",
       "      <td>30000</td>\n",
       "      <td>Яндекс Крауд: Поддержка</td>\n",
       "      <td>Москва</td>\n",
       "      <td>Без опыта</td>\n",
       "      <td>4.0</td>\n",
       "      <td>Полная занятость</td>\n",
       "      <td>Удалённая работа</td>\n",
       "      <td>30.0</td>\n",
       "    </tr>\n",
       "    <tr>\n",
       "      <th>2</th>\n",
       "      <td>https://hh.ru/vacancy/98672015?hhtmFrom=vacanc...</td>\n",
       "      <td>Менеджер по заполнению анкет (удаленно)</td>\n",
       "      <td>36800</td>\n",
       "      <td>ИП Кабин Дмитрий Владимирович</td>\n",
       "      <td>Москва</td>\n",
       "      <td>Без опыта</td>\n",
       "      <td>3.5</td>\n",
       "      <td>Полная занятость</td>\n",
       "      <td>Удалённая работа</td>\n",
       "      <td>36.8</td>\n",
       "    </tr>\n",
       "    <tr>\n",
       "      <th>3</th>\n",
       "      <td>https://hh.ru/vacancy/98657055?hhtmFrom=vacanc...</td>\n",
       "      <td>Ручной тестировщик (QA Manual Junior)</td>\n",
       "      <td>60000</td>\n",
       "      <td>Oxytocin</td>\n",
       "      <td>Москва</td>\n",
       "      <td>Без опыта</td>\n",
       "      <td>3.5</td>\n",
       "      <td>Полная занятость</td>\n",
       "      <td>В офисе</td>\n",
       "      <td>60.0</td>\n",
       "    </tr>\n",
       "    <tr>\n",
       "      <th>4</th>\n",
       "      <td>https://hh.ru/vacancy/93848299?utm_source=head...</td>\n",
       "      <td>Торговый представитель (Водитель-курьер)</td>\n",
       "      <td>170000</td>\n",
       "      <td>ЦУМ</td>\n",
       "      <td>Москва</td>\n",
       "      <td>Опыт от 1 года до 3 лет</td>\n",
       "      <td>4.0</td>\n",
       "      <td>Полная занятость</td>\n",
       "      <td>Сменный график</td>\n",
       "      <td>170.0</td>\n",
       "    </tr>\n",
       "  </tbody>\n",
       "</table>\n",
       "</div>"
      ],
      "text/plain": [
       "                                                link  \\\n",
       "0  https://adsrv.hh.ru/click?b=1003372&place=35&m...   \n",
       "1  https://adsrv.hh.ru/click?b=993174&place=36&me...   \n",
       "2  https://hh.ru/vacancy/98672015?hhtmFrom=vacanc...   \n",
       "3  https://hh.ru/vacancy/98657055?hhtmFrom=vacanc...   \n",
       "4  https://hh.ru/vacancy/93848299?utm_source=head...   \n",
       "\n",
       "                                      vacancy    wage  \\\n",
       "0      Водитель со своим грузовым автомобилем  180000   \n",
       "1  Консультант поддержки в Яндекс Путешествия   30000   \n",
       "2     Менеджер по заполнению анкет (удаленно)   36800   \n",
       "3       Ручной тестировщик (QA Manual Junior)   60000   \n",
       "4    Торговый представитель (Водитель-курьер)  170000   \n",
       "\n",
       "                              company    city               experience  \\\n",
       "0  ИП Петрикин Александр Вячеславович  Москва                Без опыта   \n",
       "1             Яндекс Крауд: Поддержка  Москва                Без опыта   \n",
       "2       ИП Кабин Дмитрий Владимирович  Москва                Без опыта   \n",
       "3                            Oxytocin  Москва                Без опыта   \n",
       "4                                 ЦУМ  Москва  Опыт от 1 года до 3 лет   \n",
       "\n",
       "   company_rating     working_hours employee_location  wage_k  \n",
       "0             4.5  Полная занятость           В офисе   180.0  \n",
       "1             4.0  Полная занятость  Удалённая работа    30.0  \n",
       "2             3.5  Полная занятость  Удалённая работа    36.8  \n",
       "3             3.5  Полная занятость           В офисе    60.0  \n",
       "4             4.0  Полная занятость    Сменный график   170.0  "
      ]
     },
     "execution_count": 54,
     "metadata": {},
     "output_type": "execute_result"
    }
   ],
   "source": [
    "df['wage_k'] = df['wage'].map(lambda x: x / 1000)\n",
    "df.head()"
   ]
  },
  {
   "cell_type": "code",
   "execution_count": 55,
   "metadata": {},
   "outputs": [],
   "source": [
    "del df['wage']"
   ]
  },
  {
   "cell_type": "markdown",
   "metadata": {},
   "source": [
    "Для начала построим вайолинплот, чтобы посмотреть на взаимосвязь основных, на наш взгляд, признаков с целевой переменной(зарплатой)"
   ]
  },
  {
   "cell_type": "code",
   "execution_count": 56,
   "metadata": {},
   "outputs": [
    {
     "data": {
      "text/plain": [
       "[<matplotlib.axis.YTick at 0x13fae3f10>,\n",
       " <matplotlib.axis.YTick at 0x13fae38b0>,\n",
       " <matplotlib.axis.YTick at 0x13fb1e820>,\n",
       " <matplotlib.axis.YTick at 0x13fb373a0>,\n",
       " <matplotlib.axis.YTick at 0x13fb199d0>]"
      ]
     },
     "execution_count": 56,
     "metadata": {},
     "output_type": "execute_result"
    },
    {
     "data": {
      "image/png": "[encoded data removed]",
      "text/plain": [
       "<Figure size 1000x500 with 1 Axes>"
      ]
     },
     "metadata": {},
     "output_type": "display_data"
    }
   ],
   "source": [
    "sns.set_theme(style='whitegrid', palette='muted')\n",
    "f, ax = plt.subplots(figsize=(10, 5))\n",
    "sns.despine(f)\n",
    "experience_wage = sns.violinplot(data=df.loc[df['wage_k'] < 500], y='wage_k', x='experience', hue='working_hours')\n",
    "# ax.set(ylabel=\"\")\n",
    "ax.set_yticks([50, 100, 150, 250, 500])"
   ]
  },
  {
   "cell_type": "markdown",
   "metadata": {},
   "source": [
    "__Наблюдения:__\n",
    "1. Даже кандидатам без опыта предлагают хорошие зарплаты. В жизни бы так.\n",
    "2. Но все-таки самые высокие зарплаты предлагают кандидатам с опытом от 6 лет.\n",
    "3. Очень-очень опытных людей ищут реже, чем работников с меньшим опытом.\n",
    "4. В целом мы видим какой-то огромный разброс зарплат, хочется изучить поглубже."
   ]
  },
  {
   "cell_type": "markdown",
   "metadata": {},
   "source": [
    "Теперь составим списки из категориальных и действительных переменных."
   ]
  },
  {
   "cell_type": "code",
   "execution_count": 57,
   "metadata": {},
   "outputs": [],
   "source": [
    "var_cat = ['city', 'experience', 'working_hours', 'employee_location']\n",
    "var_real = 'company_rating'\n",
    "target = 'wage_k'"
   ]
  },
  {
   "cell_type": "markdown",
   "metadata": {},
   "source": [
    "А еще приведем их в порядок."
   ]
  },
  {
   "cell_type": "markdown",
   "metadata": {},
   "source": [
    "__1. city__"
   ]
  },
  {
   "cell_type": "code",
   "execution_count": 58,
   "metadata": {},
   "outputs": [
    {
     "data": {
      "text/plain": [
       "array(['Москва', 'Москва, Кантемировская и еще\\xa01\\xa0',\n",
       "       'Москва, Китай-город и еще\\xa03\\xa0',\n",
       "       'Москва, Краснопресненская и еще\\xa01\\xa0', 'Москва, Фрунзенская',\n",
       "       'Москва, ВДНХ', 'Москва, Трубная',\n",
       "       'Москва, Смоленская и еще\\xa01\\xa0',\n",
       "       'Москва, Бульвар Рокоссовского',\n",
       "       'Москва, Бауманская и еще\\xa01\\xa0',\n",
       "       'Москва, Выставочная и еще\\xa02\\xa0',\n",
       "       'Москва, Выхино и еще\\xa03\\xa0',\n",
       "       'Москва, Парк культуры и еще\\xa01\\xa0', 'Москва, Автозаводская',\n",
       "       'Москва, Курская и еще\\xa03\\xa0', 'Москва, Беляево и еще\\xa02\\xa0',\n",
       "       'Москва, Планерная и еще\\xa02\\xa0', 'Москва, Бутырская ',\n",
       "       'Москва, Киевская и еще\\xa02\\xa0', 'Москва, Белорусская',\n",
       "       'Москва, Мякинино и еще\\xa02\\xa0', 'Москва, Деловой центр',\n",
       "       'Москва, Речной вокзал', 'Москва, Дмитровская и еще\\xa01\\xa0',\n",
       "       'Москва, Румянцево и еще\\xa02\\xa0', 'Москва, Профсоюзная',\n",
       "       'Москва, Беляево', 'Москва, Зорге и еще\\xa03\\xa0',\n",
       "       'Москва, Пражская и еще\\xa02\\xa0',\n",
       "       'Москва, Деловой центр и еще\\xa01\\xa0',\n",
       "       'Москва, Китай-город и еще\\xa01\\xa0',\n",
       "       'Москва, Текстильщики и еще\\xa01\\xa0', 'Москва, Медведково',\n",
       "       'Москва, Полежаевская и еще\\xa02\\xa0',\n",
       "       'Москва, Китай-город и еще\\xa02\\xa0', 'Москва, Верхние Лихоборы',\n",
       "       'Москва, ЦСКА', 'Москва, Савёловская', 'Москва, Дмитровская',\n",
       "       'Москва, Воронцовская и еще\\xa02\\xa0',\n",
       "       'Москва, Бутырская  и еще\\xa03\\xa0', 'Москва, Сокольники',\n",
       "       'Москва, Ботанический сад и еще\\xa03\\xa0',\n",
       "       'Москва, Жулебино и еще\\xa01\\xa0', 'Москва, Тульская',\n",
       "       'Москва, Измайловская и еще\\xa03\\xa0', 'Воронеж',\n",
       "       'Москва, Улица 1905 года', 'Москва, Нижегородская и еще\\xa02\\xa0',\n",
       "       'Москва, Фили и еще\\xa03\\xa0', 'Москва, Технопарк',\n",
       "       'Москва, Крылатское', 'Москва, Курская',\n",
       "       'Москва, Шоссе Энтузиастов и еще\\xa01\\xa0',\n",
       "       'Москва, Домодедовская', 'Москва, Верхние Котлы и еще\\xa03\\xa0',\n",
       "       'Москва, Волоколамская и еще\\xa03\\xa0', 'Москва, Сухаревская',\n",
       "       'Москва, Семеновская и еще\\xa03\\xa0',\n",
       "       'Москва, Аннино и еще\\xa03\\xa0', 'Москва, Раменки',\n",
       "       'Москва, Марьина Роща', 'Москва, Парк культуры и еще\\xa02\\xa0',\n",
       "       'Москва, Бабушкинская и еще\\xa02\\xa0',\n",
       "       'Москва, Бутырская  и еще\\xa02\\xa0',\n",
       "       'Москва, Проспект Мира и еще\\xa02\\xa0',\n",
       "       'Москва, Павелецкая и еще\\xa02\\xa0',\n",
       "       'Москва, Войковская и еще\\xa01\\xa0', 'Москва, Смоленская',\n",
       "       'Москва, Динамо', 'Москва, Парк Победы и еще\\xa03\\xa0',\n",
       "       'Москва, Арбатская и еще\\xa01\\xa0',\n",
       "       'Москва, Красный строитель и еще\\xa02\\xa0', 'Москва, Бибирево',\n",
       "       'Москва, Верхние Котлы и еще\\xa02\\xa0',\n",
       "       'Москва, Волжская и еще\\xa03\\xa0',\n",
       "       'Москва, Битцевский Парк и еще\\xa03\\xa0', 'Москва, Мякинино',\n",
       "       'Москва, Кунцевская и еще\\xa03\\xa0', 'Москва, Варшавская',\n",
       "       'Москва, Багратионовская и еще\\xa01\\xa0',\n",
       "       'Москва, Ботанический сад и еще\\xa02\\xa0',\n",
       "       'Москва, Водный стадион', 'Москва, Царицыно', 'Москва, Южная',\n",
       "       'Москва, Владыкино и еще\\xa01\\xa0', 'Иваново (Ивановская область)',\n",
       "       'Москва, Сокольники и еще\\xa01\\xa0',\n",
       "       'Москва, Крылатское и еще\\xa03\\xa0', 'Москва, Чистые пруды',\n",
       "       'Москва, Достоевская и еще\\xa02\\xa0',\n",
       "       'Москва, Варшавская и еще\\xa02\\xa0',\n",
       "       'Москва, Сретенский бульвар и еще\\xa02\\xa0', 'Москва, Кожуховская',\n",
       "       'Москва, Проспект Мира', 'Москва, Балтийская и еще\\xa01\\xa0',\n",
       "       'Москва, Калужская', 'Москва, Красные ворота', 'Москва, Румянцево',\n",
       "       'Москва, Новаторская и еще\\xa03\\xa0',\n",
       "       'Москва, Бауманская и еще\\xa03\\xa0',\n",
       "       'Москва, Кузьминки и еще\\xa02\\xa0', 'Москва, Народное Ополчение',\n",
       "       'Москва, Немчиновка и еще\\xa02\\xa0',\n",
       "       'Москва, Волгоградский проспект и еще\\xa03\\xa0',\n",
       "       'Москва, Косино и еще\\xa02\\xa0', 'Москва, Пражская и еще\\xa01\\xa0',\n",
       "       'Москва, Лубянка и еще\\xa03\\xa0',\n",
       "       'Москва, Бульвар Рокоссовского и еще\\xa02\\xa0', 'Серпухов',\n",
       "       'Москва, Верхние Лихоборы и еще\\xa02\\xa0',\n",
       "       'Москва, Ленинский проспект', 'Москва, Коломенская',\n",
       "       'Москва, Братиславская и еще\\xa01\\xa0', 'Москва, Выставочная',\n",
       "       'Москва, Маяковская', 'Москва, Алма-Атинская и еще\\xa01\\xa0',\n",
       "       'Москва, Павелецкая и еще\\xa01\\xa0',\n",
       "       'Москва, Бауманская и еще\\xa02\\xa0', 'Москва, Сокол',\n",
       "       'Москва, Новокузнецкая и еще\\xa02\\xa0', 'Москва, Электрозаводская',\n",
       "       'Одинцово', 'Москва, Новогиреево',\n",
       "       'Москва, Лухмановская и еще\\xa02\\xa0', 'Москва, Прокшино',\n",
       "       'Москва, Кантемировская', 'Москва, Авиамоторная',\n",
       "       'Москва, Бабушкинская', 'Москва, Домодедовская и еще\\xa01\\xa0',\n",
       "       'Москва, Боровское шоссе и еще\\xa03\\xa0',\n",
       "       'Москва, Крымская и еще\\xa01\\xa0', 'Москва, Нагорная',\n",
       "       'Москва, Озёрная и еще\\xa02\\xa0',\n",
       "       'Москва, Комсомольская и еще\\xa03\\xa0',\n",
       "       'Москва, Измайлово и еще\\xa03\\xa0', 'Ростов-на-Дону',\n",
       "       'Москва, Первомайская и еще\\xa01\\xa0', 'Москва, Баррикадная',\n",
       "       'Москва, Солнцево', 'Москва, Дубровка и еще\\xa02\\xa0',\n",
       "       'Москва, Зюзино и еще\\xa02\\xa0', 'Зеленоград',\n",
       "       'Москва, Беломорская и еще\\xa02\\xa0',\n",
       "       'Москва, Кузнецкий мост и еще\\xa02\\xa0', 'Москва, Бутово',\n",
       "       'Москва, Каширская и еще\\xa02\\xa0',\n",
       "       'Москва, Алтуфьево и еще\\xa02\\xa0', 'Москва, Дубровка',\n",
       "       'Москва, Мичуринский проспект и еще\\xa02\\xa0',\n",
       "       'Москва, Алма-Атинская и еще\\xa02\\xa0',\n",
       "       'Москва, Ленинский проспект и еще\\xa01\\xa0', 'Москва, Митино',\n",
       "       'Москва, Войковская', 'Москва, Павелецкая',\n",
       "       'Москва, Беломорская и еще\\xa03\\xa0', 'Москва, Улица Горчакова',\n",
       "       'Москва, Алексеевская', 'Москва, Багратионовская и еще\\xa02\\xa0',\n",
       "       'Москва, Новопеределкино и еще\\xa01\\xa0', 'Москва, Охотный ряд',\n",
       "       'Тучково', 'Москва, Кузьминки',\n",
       "       'Москва, Красносельская и еще\\xa02\\xa0',\n",
       "       'Москва, Бульвар Дмитрия Донского и еще\\xa02\\xa0',\n",
       "       'Москва, Парк культуры', 'Москва, Волжская и еще\\xa01\\xa0',\n",
       "       'Химки', 'Москва, Лермонтовский проспект',\n",
       "       'Москва, Левобережная и еще\\xa02\\xa0', 'Москва, Строгино',\n",
       "       'Москва, Волжская и еще\\xa02\\xa0',\n",
       "       'Москва, Авиамоторная и еще\\xa01\\xa0', 'Москва, Рассказовка',\n",
       "       'Москва, Площадь Ильича',\n",
       "       'Москва, Верхние Лихоборы и еще\\xa01\\xa0',\n",
       "       'Москва, Крылатское и еще\\xa02\\xa0',\n",
       "       'Москва, Андроновка и еще\\xa02\\xa0', 'Москва, Новохохловская',\n",
       "       'Москва, Тверская', 'Москва, Алма-Атинская',\n",
       "       'Москва, Полежаевская', 'Москва, Студенческая',\n",
       "       'Москва, Волоколамская и еще\\xa02\\xa0',\n",
       "       'Москва, Чертановская и еще\\xa01\\xa0', 'Москва, Ховрино',\n",
       "       'Москва, Перово', 'Москва, Лианозово',\n",
       "       'Москва, Жулебино и еще\\xa02\\xa0', 'Москва, Киевская',\n",
       "       'Москва, Сходненская',\n",
       "       'Москва, Проспект Вернадского и еще\\xa02\\xa0', 'Москва, Говорово',\n",
       "       'Москва, Свиблово', 'Москва, Борисово',\n",
       "       'Москва, Народное Ополчение и еще\\xa01\\xa0', 'Москва, Пионерская',\n",
       "       'Москва, Добрынинская и еще\\xa01\\xa0',\n",
       "       'Москва, Курьяново и еще\\xa02\\xa0',\n",
       "       'Москва, Славянский бульвар и еще\\xa01\\xa0', 'Москва, Тропарево',\n",
       "       'Москва, Зябликово и еще\\xa01\\xa0',\n",
       "       'Москва, Марксистская и еще\\xa02\\xa0',\n",
       "       'Москва, Боровское шоссе и еще\\xa02\\xa0', 'Москва, Первомайская',\n",
       "       'Москва, Коньково и еще\\xa02\\xa0', 'Екатеринбург',\n",
       "       'Москва, Озёрная и еще\\xa01\\xa0', 'Москва, Петровско-Разумовская',\n",
       "       'Москва, Отрадное', 'Москва, Измайловская и еще\\xa02\\xa0',\n",
       "       'Москва, Жулебино', 'Москва, Кропоткинская', 'Казань',\n",
       "       'Москва, Добрынинская и еще\\xa03\\xa0', 'Москва, Кузнецкий мост',\n",
       "       'Москва, Динамо и еще\\xa01\\xa0',\n",
       "       'Москва, Площадь трёх вокзалов и еще\\xa03\\xa0',\n",
       "       'Москва, Ломоносовский проспект и еще\\xa03\\xa0',\n",
       "       'Москва, Кропоткинская и еще\\xa02\\xa0', 'Москва, Третьяковская',\n",
       "       'Москва, Ломоносовский проспект и еще\\xa01\\xa0',\n",
       "       'Москва, Зорге и еще\\xa02\\xa0',\n",
       "       'Москва, Кунцевская и еще\\xa02\\xa0',\n",
       "       'Москва, Кантемировская и еще\\xa02\\xa0',\n",
       "       'Москва, Маяковская и еще\\xa02\\xa0', 'Москва, Славянский бульвар',\n",
       "       'Москва, Авиамоторная и еще\\xa03\\xa0',\n",
       "       'Москва, Нижегородская и еще\\xa01\\xa0', 'Москва, Аминьевская',\n",
       "       'Москва, Библиотека им.Ленина и еще\\xa03\\xa0',\n",
       "       'Москва, Некрасовка', 'Москва, Выставочная и еще\\xa03\\xa0',\n",
       "       'Москва, Китай-город', 'Москва, Багратионовская',\n",
       "       'Москва, Маяковская и еще\\xa03\\xa0',\n",
       "       'Москва, Белорусская и еще\\xa03\\xa0',\n",
       "       'Москва, Преображенская площадь и еще\\xa02\\xa0',\n",
       "       'Москва, Печатники', 'Москва, Алексеевская и еще\\xa01\\xa0',\n",
       "       'Москва, Щукинская', 'Москва, Октябрьская и еще\\xa02\\xa0',\n",
       "       'Москва, Беговая', 'Москва, Крылатское и еще\\xa01\\xa0',\n",
       "       'Москва, Новокосино', 'Москва, Красные ворота и еще\\xa03\\xa0',\n",
       "       'Москва, Деловой центр и еще\\xa03\\xa0', 'Москва, Котельники',\n",
       "       'Москва, Ботанический сад',\n",
       "       'Москва, Александровский сад и еще\\xa03\\xa0',\n",
       "       'Москва, Киевская и еще\\xa03\\xa0',\n",
       "       'Москва, Аэропорт и еще\\xa02\\xa0',\n",
       "       'Москва, Белорусская и еще\\xa01\\xa0',\n",
       "       'Москва, Автозаводская и еще\\xa03\\xa0', 'Москва, Аэропорт',\n",
       "       'Обнинск', 'Москва, Белорусская и еще\\xa02\\xa0',\n",
       "       'Москва, Курская и еще\\xa02\\xa0', 'Москва, Перерва',\n",
       "       'Москва, Арбатская и еще\\xa02\\xa0', 'Москва, Арбатская',\n",
       "       'Москва, Полянка и еще\\xa02\\xa0',\n",
       "       'Москва, Говорово и еще\\xa03\\xa0', 'Москва, Телецентр',\n",
       "       'Москва, Академическая', 'Москва, Лужники',\n",
       "       'Москва, Автозаводская и еще\\xa01\\xa0',\n",
       "       'Москва, Семеновская и еще\\xa02\\xa0', 'Москва, Серпуховская',\n",
       "       'Москва, Баррикадная и еще\\xa03\\xa0', 'Москва, Молодежная',\n",
       "       'Москва, Нагатинская и еще\\xa01\\xa0', 'Москва, Таганская',\n",
       "       'Москва, Аминьевская и еще\\xa02\\xa0',\n",
       "       'Москва, Волгоградский проспект и еще\\xa01\\xa0',\n",
       "       'Москва, Кропоткинская и еще\\xa01\\xa0', 'Москва, Спортивная',\n",
       "       'Москва, Кузьминки и еще\\xa03\\xa0',\n",
       "       'Москва, Новокузнецкая и еще\\xa01\\xa0',\n",
       "       'Москва, Крестьянская застава и еще\\xa02\\xa0',\n",
       "       'Москва, Красносельская', 'Москва, Бульвар Дмитрия Донского',\n",
       "       'Санкт-Петербург', 'Москва, Деловой центр и еще\\xa02\\xa0',\n",
       "       'Москва, Кузьминки и еще\\xa01\\xa0',\n",
       "       'Москва, Беговая и еще\\xa01\\xa0', 'Москва, Саларьево',\n",
       "       'Москва, Дмитровская и еще\\xa02\\xa0', 'Москва, Чеховская',\n",
       "       'Москва, Крестьянская застава и еще\\xa03\\xa0',\n",
       "       'Москва, Площадь Ильича и еще\\xa03\\xa0',\n",
       "       'Москва, Октябрьское поле', 'Минск', 'Москва, Шаболовская',\n",
       "       'Москва, ВДНХ и еще\\xa01\\xa0',\n",
       "       'Москва, Добрынинская и еще\\xa02\\xa0',\n",
       "       'Москва, Беговая и еще\\xa03\\xa0', 'Москва, Рижская и еще\\xa01\\xa0',\n",
       "       'Тверь', 'Москва, Красные ворота и еще\\xa01\\xa0',\n",
       "       'Москва, Кунцевская', 'Москва, Цветной бульвар',\n",
       "       'Москва, Трубная и еще\\xa01\\xa0', 'Москва, Нагатинская',\n",
       "       'Москва, Сретенский бульвар', 'Москва, Пролетарская',\n",
       "       'Москва, Москва-Сити', 'Москва, Нижегородская',\n",
       "       'Москва, Добрынинская',\n",
       "       'Москва, Волгоградский проспект и еще\\xa02\\xa0',\n",
       "       'Москва, Бауманская', 'Москва, Балтийская и еще\\xa02\\xa0',\n",
       "       'Москва, Мнёвники и еще\\xa01\\xa0',\n",
       "       'Москва, Авиамоторная и еще\\xa02\\xa0',\n",
       "       'Москва, Курская и еще\\xa01\\xa0',\n",
       "       'Москва, Баррикадная и еще\\xa02\\xa0',\n",
       "       'Москва, Цветной бульвар и еще\\xa01\\xa0',\n",
       "       'Москва, Киевская и еще\\xa01\\xa0',\n",
       "       'Москва, Савёловская и еще\\xa02\\xa0', 'Москва, Новые Черемушки',\n",
       "       'Москва, Каширская и еще\\xa01\\xa0',\n",
       "       'Москва, Красные ворота и еще\\xa02\\xa0',\n",
       "       'Москва, Сухаревская и еще\\xa03\\xa0', 'Москва, Каширская',\n",
       "       'Москва, Электрозаводская и еще\\xa03\\xa0'], dtype=object)"
      ]
     },
     "execution_count": 58,
     "metadata": {},
     "output_type": "execute_result"
    }
   ],
   "source": [
    "df['city'].unique()"
   ]
  },
  {
   "cell_type": "markdown",
   "metadata": {},
   "source": [
    "Нам пофиг на метро, так что поменяем"
   ]
  },
  {
   "cell_type": "code",
   "execution_count": 59,
   "metadata": {},
   "outputs": [
    {
     "data": {
      "text/plain": [
       "0       Москва\n",
       "1       Москва\n",
       "2       Москва\n",
       "3       Москва\n",
       "4       Москва\n",
       "         ...  \n",
       "2072    Москва\n",
       "2073    Москва\n",
       "2074    Москва\n",
       "2075    Москва\n",
       "2076    Москва\n",
       "Name: city, Length: 2077, dtype: object"
      ]
     },
     "execution_count": 59,
     "metadata": {},
     "output_type": "execute_result"
    }
   ],
   "source": [
    "df['city'].map(lambda x: x.split(',')[0])"
   ]
  },
  {
   "cell_type": "code",
   "execution_count": 60,
   "metadata": {},
   "outputs": [
    {
     "data": {
      "text/plain": [
       "array(['Москва', 'Воронеж', 'Иваново (Ивановская область)', 'Серпухов',\n",
       "       'Одинцово', 'Ростов-на-Дону', 'Зеленоград', 'Тучково', 'Химки',\n",
       "       'Екатеринбург', 'Казань', 'Обнинск', 'Санкт-Петербург', 'Минск',\n",
       "       'Тверь'], dtype=object)"
      ]
     },
     "execution_count": 60,
     "metadata": {},
     "output_type": "execute_result"
    }
   ],
   "source": [
    "df['city'].map(lambda x: x.split(',')[0]).unique()"
   ]
  },
  {
   "cell_type": "code",
   "execution_count": 61,
   "metadata": {},
   "outputs": [
    {
     "data": {
      "text/plain": [
       "city\n",
       "Москва                          2051\n",
       "Воронеж                            5\n",
       "Ростов-на-Дону                     3\n",
       "Одинцово                           2\n",
       "Зеленоград                         2\n",
       "Казань                             2\n",
       "Обнинск                            2\n",
       "Санкт-Петербург                    2\n",
       "Минск                              2\n",
       "Иваново (Ивановская область)       1\n",
       "Серпухов                           1\n",
       "Тучково                            1\n",
       "Химки                              1\n",
       "Екатеринбург                       1\n",
       "Тверь                              1\n",
       "Name: count, dtype: int64"
      ]
     },
     "execution_count": 61,
     "metadata": {},
     "output_type": "execute_result"
    }
   ],
   "source": [
    "df['city'].map(lambda x: x.split(',')[0]).value_counts()"
   ]
  },
  {
   "cell_type": "markdown",
   "metadata": {},
   "source": [
    "Учитывая такое ничтожное количество других городов помимо Москвы, видится целесообразным преобразование этого признака в бинарный: Москва/не Москва"
   ]
  },
  {
   "cell_type": "code",
   "execution_count": 62,
   "metadata": {},
   "outputs": [
    {
     "data": {
      "text/plain": [
       "city\n",
       "Москва    2051\n",
       "Другое      26\n",
       "Name: count, dtype: int64"
      ]
     },
     "execution_count": 62,
     "metadata": {},
     "output_type": "execute_result"
    }
   ],
   "source": [
    "df['city'] = df['city'].map(lambda x: x.split(',')[0]).map(lambda x: 'Другое' if x != 'Москва' else x)\n",
    "df['city'].value_counts()"
   ]
  },
  {
   "cell_type": "markdown",
   "metadata": {},
   "source": [
    "__2. experience__"
   ]
  },
  {
   "cell_type": "code",
   "execution_count": 63,
   "metadata": {},
   "outputs": [
    {
     "data": {
      "text/plain": [
       "experience\n",
       "Без опыта                  954\n",
       "Опыт от 1 года до 3 лет    724\n",
       "Опыт от 3 до 6 лет         308\n",
       "Опыт более 6 лет            91\n",
       "Name: count, dtype: int64"
      ]
     },
     "execution_count": 63,
     "metadata": {},
     "output_type": "execute_result"
    }
   ],
   "source": [
    "df['experience'].value_counts()"
   ]
  },
  {
   "cell_type": "markdown",
   "metadata": {},
   "source": [
    "_Введем обозначения:_\n",
    "`0` - без опыта\n",
    "`1` - 1-3 года\n",
    "`3` - 3-6 лет\n",
    "`6` - от 6 лет"
   ]
  },
  {
   "cell_type": "code",
   "execution_count": 64,
   "metadata": {},
   "outputs": [
    {
     "data": {
      "text/plain": [
       "experience\n",
       "0    954\n",
       "1    724\n",
       "3    308\n",
       "6     91\n",
       "Name: count, dtype: int64"
      ]
     },
     "execution_count": 64,
     "metadata": {},
     "output_type": "execute_result"
    }
   ],
   "source": [
    "df['experience'] = df['experience'].map(lambda x: 1 if ('1' in x and '3' in x) \n",
    "                     else 3 if ('3' in x and '6' in x) \n",
    "                     else 6 if ('6' in x)\n",
    "                     else 0)\n",
    "df['experience'].value_counts()"
   ]
  },
  {
   "cell_type": "markdown",
   "metadata": {},
   "source": [
    "__3. working_hours__"
   ]
  },
  {
   "cell_type": "code",
   "execution_count": 65,
   "metadata": {},
   "outputs": [
    {
     "data": {
      "text/plain": [
       "working_hours\n",
       "Полная занятость                    1964\n",
       "Частичная занятость                   96\n",
       "Стажировка                            15\n",
       "Проектная работа/разовое задание       2\n",
       "Name: count, dtype: int64"
      ]
     },
     "execution_count": 65,
     "metadata": {},
     "output_type": "execute_result"
    }
   ],
   "source": [
    "df['working_hours'].value_counts()"
   ]
  },
  {
   "cell_type": "markdown",
   "metadata": {},
   "source": [
    "Так как значение \"полная занятость\" явно превалирует над остальными, этот показатель в целом не будет особо репрезентативным. Но все же, чтобы сместить веса, я предлагаю заменить включить \"стажировку\" и \"проектную работу\" в \"частичную занятость\"\n"
   ]
  },
  {
   "cell_type": "code",
   "execution_count": 66,
   "metadata": {},
   "outputs": [
    {
     "data": {
      "text/plain": [
       "working_hours\n",
       "Полная занятость       1964\n",
       "Частичная занятость     113\n",
       "Name: count, dtype: int64"
      ]
     },
     "execution_count": 66,
     "metadata": {},
     "output_type": "execute_result"
    }
   ],
   "source": [
    "df['working_hours'] = df['working_hours'].map(lambda x: 'Частичная занятость' if x != 'Полная занятость' else x)\n",
    "df['working_hours'].value_counts()"
   ]
  },
  {
   "cell_type": "markdown",
   "metadata": {},
   "source": [
    "__4. employee location__"
   ]
  },
  {
   "cell_type": "code",
   "execution_count": 67,
   "metadata": {},
   "outputs": [
    {
     "data": {
      "text/plain": [
       "employee_location\n",
       "В офисе             1520\n",
       "Сменный график       292\n",
       "Удалённая работа     142\n",
       "Гибкий график         95\n",
       "Вахтовый метод        28\n",
       "Name: count, dtype: int64"
      ]
     },
     "execution_count": 67,
     "metadata": {},
     "output_type": "execute_result"
    }
   ],
   "source": [
    "df['employee_location'].value_counts()"
   ]
  },
  {
   "cell_type": "markdown",
   "metadata": {},
   "source": [
    "Это наш самый ненавистный столбик, потому что здесь каша. Пока что пусть остается таким."
   ]
  },
  {
   "cell_type": "markdown",
   "metadata": {},
   "source": [
    "__Подготовка к визуализации завершена. Сохраним таблицу в новом виде и приступим к построению графиков.__"
   ]
  },
  {
   "cell_type": "code",
   "execution_count": 68,
   "metadata": {},
   "outputs": [],
   "source": [
    "df.to_csv('hh_EDA_upd.csv', index=False)"
   ]
  }
 ],
 "metadata": {
  "kernelspec": {
   "display_name": "Python 3",
   "language": "python",
   "name": "python3"
  },
  "language_info": {
   "codemirror_mode": {
    "name": "ipython",
    "version": 3
   },
   "file_extension": ".py",
   "mimetype": "text/x-python",
   "name": "python",
   "nbconvert_exporter": "python",
   "pygments_lexer": "ipython3",
   "version": "3.9.6"
  }
 },
 "nbformat": 4,
 "nbformat_minor": 2
}
